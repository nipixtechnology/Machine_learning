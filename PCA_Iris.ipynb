{
 "cells": [
  {
   "cell_type": "markdown",
   "id": "fe8e6edc",
   "metadata": {},
   "source": [
    "# 📊 PCA (Principal Component Analysis) Tutorial\n",
    "Learn dimensionality reduction using PCA on the Iris dataset."
   ]
  },
  {
   "cell_type": "code",
   "execution_count": null,
   "id": "bdfed38d",
   "metadata": {},
   "outputs": [],
   "source": [
    "from sklearn.datasets import load_iris\n",
    "from sklearn.preprocessing import StandardScaler\n",
    "from sklearn.decomposition import PCA\n",
    "import pandas as pd\n",
    "import matplotlib.pyplot as plt\n",
    "import seaborn as sns\n",
    "\n",
    "# Load dataset\n",
    "iris = load_iris()\n",
    "X = pd.DataFrame(iris.data, columns=iris.feature_names)\n",
    "y = pd.Series(iris.target, name='Target')\n",
    "X.head()\n"
   ]
  },
  {
   "cell_type": "markdown",
   "id": "2762c3f0",
   "metadata": {},
   "source": [
    "## 🔄 Standardizing the Features"
   ]
  },
  {
   "cell_type": "code",
   "execution_count": null,
   "id": "20f69be6",
   "metadata": {},
   "outputs": [],
   "source": [
    "scaler = StandardScaler()\n",
    "X_scaled = scaler.fit_transform(X)\n",
    "X_scaled[:5]\n"
   ]
  },
  {
   "cell_type": "markdown",
   "id": "af4646fc",
   "metadata": {},
   "source": [
    "## 🧠 Applying PCA"
   ]
  },
  {
   "cell_type": "code",
   "execution_count": null,
   "id": "854d8b64",
   "metadata": {},
   "outputs": [],
   "source": [
    "pca = PCA(n_components=2)\n",
    "X_pca = pca.fit_transform(X_scaled)\n",
    "\n",
    "print(\"Explained Variance Ratio:\", pca.explained_variance_ratio_)\n",
    "print(\"Total Explained Variance:\", sum(pca.explained_variance_ratio_))\n"
   ]
  },
  {
   "cell_type": "markdown",
   "id": "d0f1de50",
   "metadata": {},
   "source": [
    "## 🎨 Visualize PCA-transformed Data"
   ]
  },
  {
   "cell_type": "code",
   "execution_count": null,
   "id": "e12c8f66",
   "metadata": {},
   "outputs": [],
   "source": [
    "pca_df = pd.DataFrame(X_pca, columns=[\"PC1\", \"PC2\"])\n",
    "pca_df['Target'] = y\n",
    "\n",
    "sns.set(style='whitegrid')\n",
    "plt.figure(figsize=(8,6))\n",
    "sns.scatterplot(data=pca_df, x=\"PC1\", y=\"PC2\", hue=\"Target\", palette=\"deep\")\n",
    "plt.title(\"PCA of Iris Dataset\")\n",
    "plt.show()\n"
   ]
  },
  {
   "cell_type": "markdown",
   "id": "f732ca7c",
   "metadata": {},
   "source": [
    "## 🔍 Feature Correlation Before PCA"
   ]
  },
  {
   "cell_type": "code",
   "execution_count": null,
   "id": "6c26d5b0",
   "metadata": {},
   "outputs": [],
   "source": [
    "plt.figure(figsize=(10,6))\n",
    "sns.heatmap(X.corr(), annot=True, cmap='coolwarm')\n",
    "plt.title(\"Feature Correlation Matrix\")\n",
    "plt.show()\n"
   ]
  }
 ],
 "metadata": {},
 "nbformat": 4,
 "nbformat_minor": 5
}
