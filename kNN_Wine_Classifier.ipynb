{
 "cells": [
  {
   "cell_type": "markdown",
   "id": "d109b691",
   "metadata": {},
   "source": [
    "# 🍷 k-NN Classification on Wine Dataset\n",
    "This notebook demonstrates how to apply **k-Nearest Neighbors (k-NN)** algorithm to the Wine dataset from scikit-learn, including preprocessing, elbow method, training, evaluation, and visualization."
   ]
  },
  {
   "cell_type": "code",
   "execution_count": null,
   "id": "bc239cbc",
   "metadata": {},
   "outputs": [],
   "source": [
    "import pandas as pd\n",
    "import matplotlib.pyplot as plt\n",
    "import seaborn as sns\n",
    "from sklearn.datasets import load_wine\n",
    "from sklearn.model_selection import train_test_split\n",
    "from sklearn.preprocessing import StandardScaler\n",
    "from sklearn.neighbors import KNeighborsClassifier\n",
    "from sklearn.decomposition import PCA\n",
    "from sklearn.metrics import classification_report, accuracy_score"
   ]
  },
  {
   "cell_type": "markdown",
   "id": "6813d9ea",
   "metadata": {},
   "source": [
    "## 1. Load Wine Dataset"
   ]
  },
  {
   "cell_type": "code",
   "execution_count": null,
   "id": "8fa6c573",
   "metadata": {},
   "outputs": [],
   "source": [
    "wine = load_wine()\n",
    "df = pd.DataFrame(wine.data, columns=wine.feature_names)\n",
    "df['target'] = wine.target\n",
    "df.head()"
   ]
  },
  {
   "cell_type": "markdown",
   "id": "c91fb22d",
   "metadata": {},
   "source": [
    "## 2. Split and Scale Data"
   ]
  },
  {
   "cell_type": "code",
   "execution_count": null,
   "id": "9e205519",
   "metadata": {},
   "outputs": [],
   "source": [
    "X = df.drop('target', axis=1)\n",
    "y = df['target']\n",
    "\n",
    "X_train, X_test, y_train, y_test = train_test_split(X, y, test_size=0.3, random_state=42)\n",
    "\n",
    "scaler = StandardScaler()\n",
    "X_train_scaled = scaler.fit_transform(X_train)\n",
    "X_test_scaled = scaler.transform(X_test)"
   ]
  },
  {
   "cell_type": "markdown",
   "id": "b1f739e1",
   "metadata": {},
   "source": [
    "## 3. Elbow Method to Find Optimal k"
   ]
  },
  {
   "cell_type": "code",
   "execution_count": null,
   "id": "a425c5fa",
   "metadata": {},
   "outputs": [],
   "source": [
    "error_rates = []\n",
    "k_range = range(1, 21)\n",
    "\n",
    "for k in k_range:\n",
    "    model = KNeighborsClassifier(n_neighbors=k)\n",
    "    model.fit(X_train_scaled, y_train)\n",
    "    preds = model.predict(X_test_scaled)\n",
    "    error = 1 - accuracy_score(y_test, preds)\n",
    "    error_rates.append(error)\n",
    "\n",
    "plt.figure(figsize=(8, 5))\n",
    "plt.plot(k_range, error_rates, marker='o')\n",
    "plt.title(\"Elbow Method to Find Optimal k\")\n",
    "plt.xlabel(\"k (Number of Neighbors)\")\n",
    "plt.ylabel(\"Error Rate\")\n",
    "plt.grid(True)\n",
    "plt.show()"
   ]
  },
  {
   "cell_type": "markdown",
   "id": "2a3bdc1e",
   "metadata": {},
   "source": [
    "## 4. Train k-NN Classifier"
   ]
  },
  {
   "cell_type": "code",
   "execution_count": null,
   "id": "ddac8d62",
   "metadata": {},
   "outputs": [],
   "source": [
    "best_k = 5\n",
    "knn = KNeighborsClassifier(n_neighbors=best_k)\n",
    "knn.fit(X_train_scaled, y_train)"
   ]
  },
  {
   "cell_type": "markdown",
   "id": "27ccac37",
   "metadata": {},
   "source": [
    "## 5. Evaluate the Model"
   ]
  },
  {
   "cell_type": "code",
   "execution_count": null,
   "id": "eccfbec3",
   "metadata": {},
   "outputs": [],
   "source": [
    "y_pred = knn.predict(X_test_scaled)\n",
    "\n",
    "print(\"✅ Accuracy:\", accuracy_score(y_test, y_pred))\n",
    "print(\"\\n📊 Classification Report:\")\n",
    "print(classification_report(y_test, y_pred, target_names=wine.target_names))"
   ]
  },
  {
   "cell_type": "markdown",
   "id": "dca1bac2",
   "metadata": {},
   "source": [
    "## 6. PCA + Scatter Plot of Predicted Classes"
   ]
  },
  {
   "cell_type": "code",
   "execution_count": null,
   "id": "25307f9e",
   "metadata": {},
   "outputs": [],
   "source": [
    "pca = PCA(n_components=2)\n",
    "X_train_pca = pca.fit_transform(X_train_scaled)\n",
    "\n",
    "train_preds = knn.predict(X_train_scaled)\n",
    "\n",
    "df_viz = pd.DataFrame(X_train_pca, columns=['PCA1', 'PCA2'])\n",
    "df_viz['Predicted Class'] = train_preds\n",
    "\n",
    "plt.figure(figsize=(8, 6))\n",
    "sns.scatterplot(data=df_viz, x=\"PCA1\", y=\"PCA2\", hue=\"Predicted Class\", palette=\"Set2\", s=100)\n",
    "plt.title(\"k-NN Predictions Visualized with PCA\")\n",
    "plt.grid(True)\n",
    "plt.show()"
   ]
  }
 ],
 "metadata": {},
 "nbformat": 4,
 "nbformat_minor": 5
}
