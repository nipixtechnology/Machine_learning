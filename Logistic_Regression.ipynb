{
  "nbformat": 4,
  "nbformat_minor": 0,
  "metadata": {
    "colab": {
      "provenance": []
    },
    "kernelspec": {
      "name": "python3",
      "display_name": "Python 3"
    },
    "language_info": {
      "name": "python"
    }
  },
  "cells": [
    {
      "cell_type": "code",
      "execution_count": 1,
      "metadata": {
        "colab": {
          "base_uri": "https://localhost:8080/"
        },
        "id": "9vPikTQq5cYr",
        "outputId": "e392c263-0250-4e31-ec8e-538efdf77bcc"
      },
      "outputs": [
        {
          "output_type": "stream",
          "name": "stdout",
          "text": [
            "Confusion Matrix:\n",
            "[[26  0]\n",
            " [ 0 19]]\n",
            "\n",
            "Classification Report:\n",
            "              precision    recall  f1-score   support\n",
            "\n",
            "           0       1.00      1.00      1.00        26\n",
            "           1       1.00      1.00      1.00        19\n",
            "\n",
            "    accuracy                           1.00        45\n",
            "   macro avg       1.00      1.00      1.00        45\n",
            "weighted avg       1.00      1.00      1.00        45\n",
            "\n",
            "\n",
            "🔍 Enter values to predict if it's Iris Setosa (class 0) or not:\n",
            "Enter sepal length (cm): 5\n",
            "Enter sepal width (cm): 2\n",
            "Enter petal length (cm): 1\n",
            "Enter petal width (cm): 3\n",
            "\n",
            "Prediction: Setosa (1)\n",
            "Probability [Not Setosa, Setosa]: [0.29930221 0.70069779]\n"
          ]
        }
      ],
      "source": [
        "from sklearn.datasets import load_iris\n",
        "from sklearn.linear_model import LogisticRegression\n",
        "from sklearn.model_selection import train_test_split\n",
        "from sklearn.metrics import classification_report, confusion_matrix\n",
        "import numpy as np\n",
        "\n",
        "# Load data\n",
        "X, y = load_iris(return_X_y=True)\n",
        "\n",
        "# Convert to binary classification: Class 0 vs Rest\n",
        "y_binary = (y == 0).astype(int)\n",
        "\n",
        "# Train/test split\n",
        "X_train, X_test, y_train, y_test = train_test_split(X, y_binary, test_size=0.3, random_state=42)\n",
        "\n",
        "# Train model\n",
        "model = LogisticRegression()\n",
        "model.fit(X_train, y_train)\n",
        "\n",
        "# Evaluation on test data\n",
        "y_pred = model.predict(X_test)\n",
        "print(\"Confusion Matrix:\")\n",
        "print(confusion_matrix(y_test, y_pred))\n",
        "print(\"\\nClassification Report:\")\n",
        "print(classification_report(y_test, y_pred))\n",
        "\n",
        "# === Manual Input Prediction ===\n",
        "print(\"\\n🔍 Enter values to predict if it's Iris Setosa (class 0) or not:\")\n",
        "feature_names = load_iris().feature_names\n",
        "\n",
        "manual_input = []\n",
        "for feature in feature_names:\n",
        "    val = float(input(f\"Enter {feature}: \"))\n",
        "    manual_input.append(val)\n",
        "\n",
        "# Convert to numpy array and reshape for prediction\n",
        "input_array = np.array(manual_input).reshape(1, -1)\n",
        "prediction = model.predict(input_array)\n",
        "prob = model.predict_proba(input_array)\n",
        "\n",
        "print(\"\\nPrediction:\", \"Setosa (1)\" if prediction[0] == 1 else \"Not Setosa (0)\")\n",
        "print(\"Probability [Not Setosa, Setosa]:\", prob[0])\n"
      ]
    },
    {
      "cell_type": "code",
      "source": [],
      "metadata": {
        "id": "SKdsFqXF5f5N"
      },
      "execution_count": null,
      "outputs": []
    }
  ]
}