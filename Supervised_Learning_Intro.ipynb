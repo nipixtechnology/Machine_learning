{
 "cells": [
  {
   "cell_type": "markdown",
   "id": "fc948a3d",
   "metadata": {},
   "source": [
    "# 🧠 Supervised Learning Intro\n",
    "Learn how to build and evaluate ML models using labeled data."
   ]
  },
  {
   "cell_type": "markdown",
   "id": "16933da4",
   "metadata": {},
   "source": [
    "## 🔍 What is Supervised Learning?\n",
    "Supervised learning uses **labeled datasets** to train models that can make predictions.\n",
    "\n",
    "- **Input (X):** Features (e.g., age, fare, sex)\n",
    "- **Output (y):** Target variable (e.g., survived or not)\n",
    "- Model learns to map X → y"
   ]
  },
  {
   "cell_type": "markdown",
   "id": "663332ec",
   "metadata": {},
   "source": [
    "## 🔁 Supervised Learning Workflow\n",
    "1. Load and prepare dataset\n",
    "2. Split data into training and test sets\n",
    "3. Train the model\n",
    "4. Make predictions\n",
    "5. Evaluate using metrics like accuracy and confusion matrix"
   ]
  },
  {
   "cell_type": "markdown",
   "id": "564b47ad",
   "metadata": {},
   "source": [
    "## 🧪 Titanic Dataset Classification"
   ]
  },
  {
   "cell_type": "code",
   "execution_count": null,
   "id": "580c5bd5",
   "metadata": {},
   "outputs": [],
   "source": [
    "import pandas as pd\n",
    "from sklearn.model_selection import train_test_split\n",
    "from sklearn.tree import DecisionTreeClassifier\n",
    "from sklearn.metrics import accuracy_score, confusion_matrix, classification_report\n",
    "import seaborn as sns\n",
    "import matplotlib.pyplot as plt\n",
    "\n",
    "# Load dataset\n",
    "df = pd.read_csv(\"https://raw.githubusercontent.com/datasciencedojo/datasets/master/titanic.csv\")\n",
    "\n",
    "# Select relevant features\n",
    "df = df[['Pclass', 'Sex', 'Age', 'Fare', 'Survived']]\n",
    "df['Sex'] = df['Sex'].map({'male': 0, 'female': 1})\n",
    "df['Age'] = df['Age'].fillna(df['Age'].median())"
   ]
  },
  {
   "cell_type": "markdown",
   "id": "ed2fe601",
   "metadata": {},
   "source": [
    "## 📂 Train/Test Split"
   ]
  },
  {
   "cell_type": "code",
   "execution_count": null,
   "id": "44135a31",
   "metadata": {},
   "outputs": [],
   "source": [
    "# Split features and target\n",
    "X = df[['Pclass', 'Sex', 'Age', 'Fare']]\n",
    "y = df['Survived']\n",
    "\n",
    "# Split data\n",
    "X_train, X_test, y_train, y_test = train_test_split(X, y, test_size=0.3, random_state=42)"
   ]
  },
  {
   "cell_type": "markdown",
   "id": "edc77515",
   "metadata": {},
   "source": [
    "## 🤖 Train a Decision Tree Model"
   ]
  },
  {
   "cell_type": "code",
   "execution_count": null,
   "id": "ec90eee0",
   "metadata": {},
   "outputs": [],
   "source": [
    "model = DecisionTreeClassifier()\n",
    "model.fit(X_train, y_train)"
   ]
  },
  {
   "cell_type": "markdown",
   "id": "708ebdb8",
   "metadata": {},
   "source": [
    "## 🔮 Make Predictions"
   ]
  },
  {
   "cell_type": "code",
   "execution_count": null,
   "id": "14a8bdbb",
   "metadata": {},
   "outputs": [],
   "source": [
    "y_pred = model.predict(X_test)"
   ]
  },
  {
   "cell_type": "markdown",
   "id": "f22d02d6",
   "metadata": {},
   "source": [
    "## ✅ Accuracy Score"
   ]
  },
  {
   "cell_type": "code",
   "execution_count": null,
   "id": "49f27230",
   "metadata": {},
   "outputs": [],
   "source": [
    "acc = accuracy_score(y_test, y_pred)\n",
    "print(f\"Accuracy: {acc:.2f}\")"
   ]
  },
  {
   "cell_type": "markdown",
   "id": "c3893aa5",
   "metadata": {},
   "source": [
    "## 🔷 Confusion Matrix"
   ]
  },
  {
   "cell_type": "code",
   "execution_count": null,
   "id": "9b17504e",
   "metadata": {},
   "outputs": [],
   "source": [
    "cm = confusion_matrix(y_test, y_pred)\n",
    "sns.heatmap(cm, annot=True, fmt='d', cmap='Blues')\n",
    "plt.title(\"Confusion Matrix\")\n",
    "plt.xlabel(\"Predicted\")\n",
    "plt.ylabel(\"Actual\")\n",
    "plt.show()"
   ]
  },
  {
   "cell_type": "markdown",
   "id": "15323b5d",
   "metadata": {},
   "source": [
    "## 📊 Classification Report"
   ]
  },
  {
   "cell_type": "code",
   "execution_count": null,
   "id": "75f70eb2",
   "metadata": {},
   "outputs": [],
   "source": [
    "print(classification_report(y_test, y_pred))"
   ]
  },
  {
   "cell_type": "markdown",
   "id": "e527e09a",
   "metadata": {},
   "source": [
    "## 📚 Summary of Evaluation Metrics\n",
    "- **Accuracy:** Overall correctness\n",
    "- **Precision:** Correctness of positive predictions\n",
    "- **Recall:** Sensitivity to actual positives\n",
    "- **F1 Score:** Balance of precision and recall"
   ]
  }
 ],
 "metadata": {},
 "nbformat": 4,
 "nbformat_minor": 5
}
