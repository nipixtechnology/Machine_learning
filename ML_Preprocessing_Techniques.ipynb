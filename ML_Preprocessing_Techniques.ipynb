{
 "cells": [
  {
   "cell_type": "markdown",
   "id": "51b9d5bf",
   "metadata": {},
   "source": [
    "# 🧹 Preprocessing Techniques in Machine Learning\n",
    "Data preprocessing is a crucial step to prepare raw data for modeling. It improves data quality and model performance."
   ]
  },
  {
   "cell_type": "markdown",
   "id": "ae115ba2",
   "metadata": {},
   "source": [
    "## 📌 Common Preprocessing Techniques\n",
    "1. Handling Missing Values\n",
    "2. Encoding Categorical Variables\n",
    "3. Feature Scaling (Normalization & Standardization)\n",
    "4. Feature Engineering\n",
    "5. Outlier Handling\n",
    "6. Train/Test Split"
   ]
  },
  {
   "cell_type": "markdown",
   "id": "c7ed9c91",
   "metadata": {},
   "source": [
    "## 1. Handling Missing Values"
   ]
  },
  {
   "cell_type": "code",
   "execution_count": null,
   "id": "26a32594",
   "metadata": {},
   "outputs": [],
   "source": [
    "import pandas as pd\n",
    "import numpy as np\n",
    "\n",
    "# Sample data\n",
    "data = {'Name': ['Alice', 'Bob', 'Charlie', 'David'],\n",
    "        'Age': [25, np.nan, 30, 28],\n",
    "        'Salary': [50000, 60000, np.nan, 58000]}\n",
    "df = pd.DataFrame(data)\n",
    "\n",
    "# Fill missing with mean\n",
    "df['Age'] = df['Age'].fillna(df['Age'].mean())\n",
    "\n",
    "# Fill missing with median\n",
    "df['Salary'] = df['Salary'].fillna(df['Salary'].median())\n",
    "\n",
    "print(df)"
   ]
  },
  {
   "cell_type": "markdown",
   "id": "b1fd50fc",
   "metadata": {},
   "source": [
    "## 2. Encoding Categorical Variables"
   ]
  },
  {
   "cell_type": "code",
   "execution_count": null,
   "id": "87102c00",
   "metadata": {},
   "outputs": [],
   "source": [
    "df = pd.DataFrame({'Gender': ['Male', 'Female', 'Female', 'Male'],\n",
    "                   'City': ['New York', 'Paris', 'Paris', 'London']})\n",
    "\n",
    "# Label Encoding\n",
    "df['Gender_encoded'] = df['Gender'].map({'Male': 0, 'Female': 1})\n",
    "\n",
    "# One-Hot Encoding\n",
    "df_encoded = pd.get_dummies(df, columns=['City'])\n",
    "\n",
    "print(df_encoded)"
   ]
  },
  {
   "cell_type": "markdown",
   "id": "fd67d87a",
   "metadata": {},
   "source": [
    "## 3. Feature Scaling (Normalization & Standardization)"
   ]
  },
  {
   "cell_type": "code",
   "execution_count": null,
   "id": "538b9fae",
   "metadata": {},
   "outputs": [],
   "source": [
    "from sklearn.preprocessing import MinMaxScaler, StandardScaler\n",
    "\n",
    "df = pd.DataFrame({'Score': [10, 20, 30, 40, 50]})\n",
    "\n",
    "# Normalization (Min-Max Scaling)\n",
    "minmax = MinMaxScaler()\n",
    "df['Score_Normalized'] = minmax.fit_transform(df[['Score']])\n",
    "\n",
    "# Standardization (Z-score Scaling)\n",
    "scaler = StandardScaler()\n",
    "df['Score_Standardized'] = scaler.fit_transform(df[['Score']])\n",
    "\n",
    "print(df)"
   ]
  },
  {
   "cell_type": "markdown",
   "id": "71b9d9d0",
   "metadata": {},
   "source": [
    "## 4. Feature Engineering Example"
   ]
  },
  {
   "cell_type": "code",
   "execution_count": null,
   "id": "bfbfd0a1",
   "metadata": {},
   "outputs": [],
   "source": [
    "df = pd.DataFrame({'FirstName': ['Alice', 'Bob'], 'LastName': ['Smith', 'Jones']})\n",
    "\n",
    "# Combine columns\n",
    "df['FullName'] = df['FirstName'] + ' ' + df['LastName']\n",
    "\n",
    "print(df)"
   ]
  },
  {
   "cell_type": "markdown",
   "id": "6bded4d0",
   "metadata": {},
   "source": [
    "## 5. Outlier Detection & Removal"
   ]
  },
  {
   "cell_type": "code",
   "execution_count": null,
   "id": "9b52da79",
   "metadata": {},
   "outputs": [],
   "source": [
    "import seaborn as sns\n",
    "import matplotlib.pyplot as plt\n",
    "\n",
    "# Boxplot for outlier detection\n",
    "data = pd.DataFrame({'Income': [30, 32, 34, 33, 31, 150]})\n",
    "sns.boxplot(x=data['Income'])\n",
    "plt.title('Boxplot of Income')\n",
    "plt.show()\n",
    "\n",
    "# Remove outliers using IQR\n",
    "Q1 = data['Income'].quantile(0.25)\n",
    "Q3 = data['Income'].quantile(0.75)\n",
    "IQR = Q3 - Q1\n",
    "filtered = data[(data['Income'] >= Q1 - 1.5 * IQR) & (data['Income'] <= Q3 + 1.5 * IQR)]\n",
    "\n",
    "print(filtered)"
   ]
  },
  {
   "cell_type": "markdown",
   "id": "63419d0c",
   "metadata": {},
   "source": [
    "## 6. Train/Test Split"
   ]
  },
  {
   "cell_type": "code",
   "execution_count": null,
   "id": "21403298",
   "metadata": {},
   "outputs": [],
   "source": [
    "from sklearn.model_selection import train_test_split\n",
    "\n",
    "X = pd.DataFrame({'feature': [1, 2, 3, 4, 5]})\n",
    "y = pd.Series([0, 1, 0, 1, 0])\n",
    "\n",
    "X_train, X_test, y_train, y_test = train_test_split(X, y, test_size=0.2, random_state=42)\n",
    "\n",
    "print(\"X_train:\\n\", X_train)\n",
    "print(\"X_test:\\n\", X_test)"
   ]
  }
 ],
 "metadata": {},
 "nbformat": 4,
 "nbformat_minor": 5
}
