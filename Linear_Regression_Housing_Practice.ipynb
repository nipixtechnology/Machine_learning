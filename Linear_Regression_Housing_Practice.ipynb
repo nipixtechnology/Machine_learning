{
 "cells": [
  {
   "cell_type": "markdown",
   "id": "b0db5f5c",
   "metadata": {},
   "source": [
    "# 📈 Linear Regression Practice Notebook (Beginner Friendly)"
   ]
  },
  {
   "cell_type": "markdown",
   "id": "30341817",
   "metadata": {},
   "source": [
    "## 🧠 What is Linear Regression?\n",
    "Linear Regression is a supervised learning algorithm used to model the relationship between a **dependent variable** and one or more **independent variables**.\n",
    "\n",
    "**Simple Linear Regression:** One input feature\n",
    "**Multiple Linear Regression:** Multiple input features"
   ]
  },
  {
   "cell_type": "markdown",
   "id": "3a70fbe8",
   "metadata": {},
   "source": [
    "## 📦 Dataset: California Housing\n",
    "We will predict housing prices using features like number of rooms, crime rate, etc."
   ]
  },
  {
   "cell_type": "code",
   "execution_count": null,
   "id": "84f2ccda",
   "metadata": {},
   "outputs": [],
   "source": [
    "from sklearn.datasets import fetch_california_housing\n",
    "import pandas as pd\n",
    "\n",
    "# Load dataset\n",
    "data = fetch_california_housing()\n",
    "df = pd.DataFrame(data.data, columns=data.feature_names)\n",
    "df['Target'] = data.target\n",
    "df.head()"
   ]
  },
  {
   "cell_type": "markdown",
   "id": "7a826012",
   "metadata": {},
   "source": [
    "## 📊 Step 1: Exploratory Data Analysis (EDA)"
   ]
  },
  {
   "cell_type": "code",
   "execution_count": null,
   "id": "47719d7b",
   "metadata": {},
   "outputs": [],
   "source": [
    "import matplotlib.pyplot as plt\n",
    "import seaborn as sns\n",
    "\n",
    "# Visualize correlation\n",
    "plt.figure(figsize=(10,6))\n",
    "sns.heatmap(df.corr(), annot=True, cmap='coolwarm')\n",
    "plt.title(\"Feature Correlation Heatmap\")\n",
    "plt.show()"
   ]
  },
  {
   "cell_type": "markdown",
   "id": "0a076f37",
   "metadata": {},
   "source": [
    "## ✂️ Step 2: Split Features and Target"
   ]
  },
  {
   "cell_type": "code",
   "execution_count": null,
   "id": "e9714935",
   "metadata": {},
   "outputs": [],
   "source": [
    "X = df.drop('Target', axis=1)\n",
    "y = df['Target']\n",
    "\n",
    "from sklearn.model_selection import train_test_split\n",
    "X_train, X_test, y_train, y_test = train_test_split(X, y, test_size=0.2, random_state=42)"
   ]
  },
  {
   "cell_type": "markdown",
   "id": "a3edc1e5",
   "metadata": {},
   "source": [
    "## 🔧 Step 3: Train Linear Regression Model"
   ]
  },
  {
   "cell_type": "code",
   "execution_count": null,
   "id": "56d5c4cd",
   "metadata": {},
   "outputs": [],
   "source": [
    "from sklearn.linear_model import LinearRegression\n",
    "\n",
    "model = LinearRegression()\n",
    "model.fit(X_train, y_train)\n",
    "\n",
    "# Coefficients\n",
    "print(\"Intercept:\", model.intercept_)\n",
    "print(\"Coefficients:\", model.coef_)"
   ]
  },
  {
   "cell_type": "markdown",
   "id": "d5653c53",
   "metadata": {},
   "source": [
    "## 🔮 Step 4: Predict and Evaluate Model"
   ]
  },
  {
   "cell_type": "code",
   "execution_count": null,
   "id": "cb211a22",
   "metadata": {},
   "outputs": [],
   "source": [
    "y_pred = model.predict(X_test)\n",
    "\n",
    "from sklearn.metrics import mean_absolute_error, mean_squared_error, r2_score\n",
    "\n",
    "mae = mean_absolute_error(y_test, y_pred)\n",
    "mse = mean_squared_error(y_test, y_pred)\n",
    "rmse = mse ** 0.5\n",
    "r2 = r2_score(y_test, y_pred)\n",
    "\n",
    "print(f\"MAE: {mae:.2f}\")\n",
    "print(f\"MSE: {mse:.2f}\")\n",
    "print(f\"RMSE: {rmse:.2f}\")\n",
    "print(f\"R² Score: {r2:.2f}\")"
   ]
  },
  {
   "cell_type": "markdown",
   "id": "18acdbf0",
   "metadata": {},
   "source": [
    "## 📈 Step 5: Visualization of Prediction vs Actual"
   ]
  },
  {
   "cell_type": "code",
   "execution_count": null,
   "id": "d3ba7dcb",
   "metadata": {},
   "outputs": [],
   "source": [
    "plt.figure(figsize=(8,6))\n",
    "plt.scatter(y_test, y_pred, alpha=0.5)\n",
    "plt.xlabel(\"Actual Price\")\n",
    "plt.ylabel(\"Predicted Price\")\n",
    "plt.title(\"Actual vs Predicted House Prices\")\n",
    "plt.plot([min(y_test), max(y_test)], [min(y_test), max(y_test)], color='red')\n",
    "plt.show()"
   ]
  },
  {
   "cell_type": "markdown",
   "id": "9f03f716",
   "metadata": {},
   "source": [
    "## ✅ Summary\n",
    "- MAE, MSE, RMSE are used to evaluate regression performance\n",
    "- R² tells how well the model explains variance (1 is perfect)\n",
    "- Visualizing predictions helps identify bias or error patterns"
   ]
  }
 ],
 "metadata": {},
 "nbformat": 4,
 "nbformat_minor": 5
}
