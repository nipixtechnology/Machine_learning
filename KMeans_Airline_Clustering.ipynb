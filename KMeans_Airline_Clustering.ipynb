{
 "cells": [
  {
   "cell_type": "code",
   "execution_count": null,
   "id": "53d5b12b",
   "metadata": {},
   "outputs": [],
   "source": [
    "\n",
    "import pandas as pd\n",
    "import matplotlib.pyplot as plt\n",
    "import seaborn as sns\n",
    "from sklearn.preprocessing import StandardScaler\n",
    "from sklearn.cluster import KMeans\n",
    "from sklearn.decomposition import PCA\n",
    "from sklearn.metrics import silhouette_score\n",
    "from sklearn.datasets import make_blobs\n"
   ]
  },
  {
   "cell_type": "code",
   "execution_count": null,
   "id": "58b8297a",
   "metadata": {},
   "outputs": [],
   "source": [
    "\n",
    "X, _ = make_blobs(n_samples=300, centers=5, cluster_std=1.5, random_state=42)\n",
    "df = pd.DataFrame(X, columns=[\"Flight_Miles\", \"Bonus_Miles\"])\n"
   ]
  },
  {
   "cell_type": "code",
   "execution_count": null,
   "id": "d7e914a0",
   "metadata": {},
   "outputs": [],
   "source": [
    "\n",
    "scaler = StandardScaler()\n",
    "X_scaled = scaler.fit_transform(df)\n"
   ]
  },
  {
   "cell_type": "code",
   "execution_count": null,
   "id": "ceb3545b",
   "metadata": {},
   "outputs": [],
   "source": [
    "\n",
    "inertia = []\n",
    "silhouette_scores = []\n",
    "k_range = range(2, 11)\n",
    "\n",
    "for k in k_range:\n",
    "    km = KMeans(n_clusters=k, random_state=42)\n",
    "    preds = km.fit_predict(X_scaled)\n",
    "    inertia.append(km.inertia_)\n",
    "    silhouette_scores.append(silhouette_score(X_scaled, preds))\n",
    "\n",
    "plt.figure(figsize=(12, 5))\n",
    "plt.subplot(1, 2, 1)\n",
    "plt.plot(k_range, inertia, marker='o')\n",
    "plt.title('Elbow Method')\n",
    "plt.xlabel('Number of Clusters (K)')\n",
    "plt.ylabel('Inertia')\n",
    "plt.grid(True)\n",
    "\n",
    "plt.subplot(1, 2, 2)\n",
    "plt.plot(k_range, silhouette_scores, marker='o', color='green')\n",
    "plt.title('Silhouette Score')\n",
    "plt.xlabel('Number of Clusters (K)')\n",
    "plt.ylabel('Score')\n",
    "plt.grid(True)\n",
    "\n",
    "plt.tight_layout()\n",
    "plt.show()\n"
   ]
  },
  {
   "cell_type": "code",
   "execution_count": null,
   "id": "00bc7f58",
   "metadata": {},
   "outputs": [],
   "source": [
    "\n",
    "kmeans = KMeans(n_clusters=5, random_state=42)\n",
    "df[\"Cluster\"] = kmeans.fit_predict(X_scaled)\n",
    "\n",
    "pca = PCA(n_components=2)\n",
    "df[\"PCA1\"] = pca.fit_transform(X_scaled)[:, 0]\n",
    "df[\"PCA2\"] = pca.fit_transform(X_scaled)[:, 1]\n"
   ]
  },
  {
   "cell_type": "code",
   "execution_count": null,
   "id": "168d2bd5",
   "metadata": {},
   "outputs": [],
   "source": [
    "\n",
    "plt.figure(figsize=(8, 6))\n",
    "sns.scatterplot(data=df, x=\"PCA1\", y=\"PCA2\", hue=\"Cluster\", palette=\"Set2\", s=60)\n",
    "plt.title(\"K-Means Clustering (Simulated Airline Data)\")\n",
    "plt.grid(True)\n",
    "plt.tight_layout()\n",
    "plt.show()\n"
   ]
  }
 ],
 "metadata": {},
 "nbformat": 4,
 "nbformat_minor": 5
}
